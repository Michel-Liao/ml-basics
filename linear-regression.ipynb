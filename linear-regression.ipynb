{
 "cells": [
  {
   "cell_type": "markdown",
   "metadata": {},
   "source": [
    "# Linear Regression on Boston Housing Data Set"
   ]
  },
  {
   "cell_type": "markdown",
   "metadata": {},
   "source": [
    "There isn't much commentary on this notebook. If you want to see my logic with this implementation, go to michelliao.com"
   ]
  },
  {
   "cell_type": "code",
   "execution_count": 6,
   "metadata": {},
   "outputs": [],
   "source": [
    "import numpy as np\n",
    "import matplotlib.pyplot as plt\n",
    "import pandas as pd\n",
    "import seaborn as sns"
   ]
  },
  {
   "cell_type": "markdown",
   "metadata": {},
   "source": [
    "### Visualizing the Dataset"
   ]
  },
  {
   "cell_type": "code",
   "execution_count": 7,
   "metadata": {},
   "outputs": [
    {
     "data": {
      "text/html": [
       "<div>\n",
       "<style scoped>\n",
       "    .dataframe tbody tr th:only-of-type {\n",
       "        vertical-align: middle;\n",
       "    }\n",
       "\n",
       "    .dataframe tbody tr th {\n",
       "        vertical-align: top;\n",
       "    }\n",
       "\n",
       "    .dataframe thead th {\n",
       "        text-align: right;\n",
       "    }\n",
       "</style>\n",
       "<table border=\"1\" class=\"dataframe\">\n",
       "  <thead>\n",
       "    <tr style=\"text-align: right;\">\n",
       "      <th></th>\n",
       "      <th>Id</th>\n",
       "      <th>MSSubClass</th>\n",
       "      <th>MSZoning</th>\n",
       "      <th>LotFrontage</th>\n",
       "      <th>LotArea</th>\n",
       "      <th>Street</th>\n",
       "      <th>Alley</th>\n",
       "      <th>LotShape</th>\n",
       "      <th>LandContour</th>\n",
       "      <th>Utilities</th>\n",
       "      <th>...</th>\n",
       "      <th>PoolArea</th>\n",
       "      <th>PoolQC</th>\n",
       "      <th>Fence</th>\n",
       "      <th>MiscFeature</th>\n",
       "      <th>MiscVal</th>\n",
       "      <th>MoSold</th>\n",
       "      <th>YrSold</th>\n",
       "      <th>SaleType</th>\n",
       "      <th>SaleCondition</th>\n",
       "      <th>SalePrice</th>\n",
       "    </tr>\n",
       "  </thead>\n",
       "  <tbody>\n",
       "    <tr>\n",
       "      <th>0</th>\n",
       "      <td>1</td>\n",
       "      <td>60</td>\n",
       "      <td>RL</td>\n",
       "      <td>65.0</td>\n",
       "      <td>8450</td>\n",
       "      <td>Pave</td>\n",
       "      <td>NaN</td>\n",
       "      <td>Reg</td>\n",
       "      <td>Lvl</td>\n",
       "      <td>AllPub</td>\n",
       "      <td>...</td>\n",
       "      <td>0</td>\n",
       "      <td>NaN</td>\n",
       "      <td>NaN</td>\n",
       "      <td>NaN</td>\n",
       "      <td>0</td>\n",
       "      <td>2</td>\n",
       "      <td>2008</td>\n",
       "      <td>WD</td>\n",
       "      <td>Normal</td>\n",
       "      <td>208500</td>\n",
       "    </tr>\n",
       "    <tr>\n",
       "      <th>1</th>\n",
       "      <td>2</td>\n",
       "      <td>20</td>\n",
       "      <td>RL</td>\n",
       "      <td>80.0</td>\n",
       "      <td>9600</td>\n",
       "      <td>Pave</td>\n",
       "      <td>NaN</td>\n",
       "      <td>Reg</td>\n",
       "      <td>Lvl</td>\n",
       "      <td>AllPub</td>\n",
       "      <td>...</td>\n",
       "      <td>0</td>\n",
       "      <td>NaN</td>\n",
       "      <td>NaN</td>\n",
       "      <td>NaN</td>\n",
       "      <td>0</td>\n",
       "      <td>5</td>\n",
       "      <td>2007</td>\n",
       "      <td>WD</td>\n",
       "      <td>Normal</td>\n",
       "      <td>181500</td>\n",
       "    </tr>\n",
       "    <tr>\n",
       "      <th>2</th>\n",
       "      <td>3</td>\n",
       "      <td>60</td>\n",
       "      <td>RL</td>\n",
       "      <td>68.0</td>\n",
       "      <td>11250</td>\n",
       "      <td>Pave</td>\n",
       "      <td>NaN</td>\n",
       "      <td>IR1</td>\n",
       "      <td>Lvl</td>\n",
       "      <td>AllPub</td>\n",
       "      <td>...</td>\n",
       "      <td>0</td>\n",
       "      <td>NaN</td>\n",
       "      <td>NaN</td>\n",
       "      <td>NaN</td>\n",
       "      <td>0</td>\n",
       "      <td>9</td>\n",
       "      <td>2008</td>\n",
       "      <td>WD</td>\n",
       "      <td>Normal</td>\n",
       "      <td>223500</td>\n",
       "    </tr>\n",
       "  </tbody>\n",
       "</table>\n",
       "<p>3 rows × 81 columns</p>\n",
       "</div>"
      ],
      "text/plain": [
       "   Id  MSSubClass MSZoning  LotFrontage  LotArea Street Alley LotShape  \\\n",
       "0   1          60       RL         65.0     8450   Pave   NaN      Reg   \n",
       "1   2          20       RL         80.0     9600   Pave   NaN      Reg   \n",
       "2   3          60       RL         68.0    11250   Pave   NaN      IR1   \n",
       "\n",
       "  LandContour Utilities  ... PoolArea PoolQC Fence MiscFeature MiscVal MoSold  \\\n",
       "0         Lvl    AllPub  ...        0    NaN   NaN         NaN       0      2   \n",
       "1         Lvl    AllPub  ...        0    NaN   NaN         NaN       0      5   \n",
       "2         Lvl    AllPub  ...        0    NaN   NaN         NaN       0      9   \n",
       "\n",
       "  YrSold  SaleType  SaleCondition  SalePrice  \n",
       "0   2008        WD         Normal     208500  \n",
       "1   2007        WD         Normal     181500  \n",
       "2   2008        WD         Normal     223500  \n",
       "\n",
       "[3 rows x 81 columns]"
      ]
     },
     "execution_count": 7,
     "metadata": {},
     "output_type": "execute_result"
    }
   ],
   "source": [
    "df_train = pd.read_csv('./house-prices-advanced-regression-techniques/train.csv')\n",
    "df_train.head(3)"
   ]
  },
  {
   "cell_type": "code",
   "execution_count": 8,
   "metadata": {},
   "outputs": [
    {
     "name": "stdout",
     "output_type": "stream",
     "text": [
      "<class 'pandas.core.frame.DataFrame'>\n",
      "RangeIndex: 1460 entries, 0 to 1459\n",
      "Data columns (total 81 columns):\n",
      " #   Column         Non-Null Count  Dtype  \n",
      "---  ------         --------------  -----  \n",
      " 0   Id             1460 non-null   int64  \n",
      " 1   MSSubClass     1460 non-null   int64  \n",
      " 2   MSZoning       1460 non-null   object \n",
      " 3   LotFrontage    1201 non-null   float64\n",
      " 4   LotArea        1460 non-null   int64  \n",
      " 5   Street         1460 non-null   object \n",
      " 6   Alley          91 non-null     object \n",
      " 7   LotShape       1460 non-null   object \n",
      " 8   LandContour    1460 non-null   object \n",
      " 9   Utilities      1460 non-null   object \n",
      " 10  LotConfig      1460 non-null   object \n",
      " 11  LandSlope      1460 non-null   object \n",
      " 12  Neighborhood   1460 non-null   object \n",
      " 13  Condition1     1460 non-null   object \n",
      " 14  Condition2     1460 non-null   object \n",
      " 15  BldgType       1460 non-null   object \n",
      " 16  HouseStyle     1460 non-null   object \n",
      " 17  OverallQual    1460 non-null   int64  \n",
      " 18  OverallCond    1460 non-null   int64  \n",
      " 19  YearBuilt      1460 non-null   int64  \n",
      " 20  YearRemodAdd   1460 non-null   int64  \n",
      " 21  RoofStyle      1460 non-null   object \n",
      " 22  RoofMatl       1460 non-null   object \n",
      " 23  Exterior1st    1460 non-null   object \n",
      " 24  Exterior2nd    1460 non-null   object \n",
      " 25  MasVnrType     588 non-null    object \n",
      " 26  MasVnrArea     1452 non-null   float64\n",
      " 27  ExterQual      1460 non-null   object \n",
      " 28  ExterCond      1460 non-null   object \n",
      " 29  Foundation     1460 non-null   object \n",
      " 30  BsmtQual       1423 non-null   object \n",
      " 31  BsmtCond       1423 non-null   object \n",
      " 32  BsmtExposure   1422 non-null   object \n",
      " 33  BsmtFinType1   1423 non-null   object \n",
      " 34  BsmtFinSF1     1460 non-null   int64  \n",
      " 35  BsmtFinType2   1422 non-null   object \n",
      " 36  BsmtFinSF2     1460 non-null   int64  \n",
      " 37  BsmtUnfSF      1460 non-null   int64  \n",
      " 38  TotalBsmtSF    1460 non-null   int64  \n",
      " 39  Heating        1460 non-null   object \n",
      " 40  HeatingQC      1460 non-null   object \n",
      " 41  CentralAir     1460 non-null   object \n",
      " 42  Electrical     1459 non-null   object \n",
      " 43  1stFlrSF       1460 non-null   int64  \n",
      " 44  2ndFlrSF       1460 non-null   int64  \n",
      " 45  LowQualFinSF   1460 non-null   int64  \n",
      " 46  GrLivArea      1460 non-null   int64  \n",
      " 47  BsmtFullBath   1460 non-null   int64  \n",
      " 48  BsmtHalfBath   1460 non-null   int64  \n",
      " 49  FullBath       1460 non-null   int64  \n",
      " 50  HalfBath       1460 non-null   int64  \n",
      " 51  BedroomAbvGr   1460 non-null   int64  \n",
      " 52  KitchenAbvGr   1460 non-null   int64  \n",
      " 53  KitchenQual    1460 non-null   object \n",
      " 54  TotRmsAbvGrd   1460 non-null   int64  \n",
      " 55  Functional     1460 non-null   object \n",
      " 56  Fireplaces     1460 non-null   int64  \n",
      " 57  FireplaceQu    770 non-null    object \n",
      " 58  GarageType     1379 non-null   object \n",
      " 59  GarageYrBlt    1379 non-null   float64\n",
      " 60  GarageFinish   1379 non-null   object \n",
      " 61  GarageCars     1460 non-null   int64  \n",
      " 62  GarageArea     1460 non-null   int64  \n",
      " 63  GarageQual     1379 non-null   object \n",
      " 64  GarageCond     1379 non-null   object \n",
      " 65  PavedDrive     1460 non-null   object \n",
      " 66  WoodDeckSF     1460 non-null   int64  \n",
      " 67  OpenPorchSF    1460 non-null   int64  \n",
      " 68  EnclosedPorch  1460 non-null   int64  \n",
      " 69  3SsnPorch      1460 non-null   int64  \n",
      " 70  ScreenPorch    1460 non-null   int64  \n",
      " 71  PoolArea       1460 non-null   int64  \n",
      " 72  PoolQC         7 non-null      object \n",
      " 73  Fence          281 non-null    object \n",
      " 74  MiscFeature    54 non-null     object \n",
      " 75  MiscVal        1460 non-null   int64  \n",
      " 76  MoSold         1460 non-null   int64  \n",
      " 77  YrSold         1460 non-null   int64  \n",
      " 78  SaleType       1460 non-null   object \n",
      " 79  SaleCondition  1460 non-null   object \n",
      " 80  SalePrice      1460 non-null   int64  \n",
      "dtypes: float64(3), int64(35), object(43)\n",
      "memory usage: 924.0+ KB\n"
     ]
    }
   ],
   "source": [
    "df_train.info()"
   ]
  },
  {
   "cell_type": "code",
   "execution_count": 20,
   "metadata": {},
   "outputs": [
    {
     "data": {
      "text/plain": [
       "count      1460.000000\n",
       "mean     180921.195890\n",
       "std       79442.502883\n",
       "min       34900.000000\n",
       "25%      129975.000000\n",
       "50%      163000.000000\n",
       "75%      214000.000000\n",
       "max      755000.000000\n",
       "Name: SalePrice, dtype: float64"
      ]
     },
     "execution_count": 20,
     "metadata": {},
     "output_type": "execute_result"
    }
   ],
   "source": [
    "df_train['SalePrice'].describe()"
   ]
  },
  {
   "cell_type": "code",
   "execution_count": 13,
   "metadata": {},
   "outputs": [
    {
     "name": "stderr",
     "output_type": "stream",
     "text": [
      "/Users/michelliao/miniforge3/envs/kaggle/lib/python3.12/site-packages/seaborn/_oldcore.py:1119: FutureWarning: use_inf_as_na option is deprecated and will be removed in a future version. Convert inf values to NaN before operating instead.\n",
      "  with pd.option_context('mode.use_inf_as_na', True):\n"
     ]
    },
    {
     "data": {
      "text/plain": [
       "<Axes: xlabel='SalePrice', ylabel='Count'>"
      ]
     },
     "execution_count": 13,
     "metadata": {},
     "output_type": "execute_result"
    },
    {
     "data": {
      "image/png": "[encoded data removed]",
      "text/plain": [
       "<Figure size 900x800 with 1 Axes>"
      ]
     },
     "metadata": {},
     "output_type": "display_data"
    }
   ],
   "source": [
    "plt.figure(figsize=(9,8))\n",
    "sns.histplot(df_train['SalePrice'], color='b', bins=100)"
   ]
  },
  {
   "cell_type": "code",
   "execution_count": 14,
   "metadata": {},
   "outputs": [
    {
     "data": {
      "text/plain": [
       "0    2\n",
       "1    2\n",
       "2    2\n",
       "Name: FullBath, dtype: int64"
      ]
     },
     "execution_count": 14,
     "metadata": {},
     "output_type": "execute_result"
    }
   ],
   "source": [
    "df_train['FullBath'].head(3)"
   ]
  },
  {
   "cell_type": "markdown",
   "metadata": {},
   "source": [
    "### Feature Scaling"
   ]
  },
  {
   "cell_type": "code",
   "execution_count": 65,
   "metadata": {},
   "outputs": [
    {
     "name": "stdout",
     "output_type": "stream",
     "text": [
      "First 5 terms of FullBath: [ 0.14497717  0.14497717  0.14497717 -0.18835616  0.14497717]\n",
      "First 5 terms of LotArea: [-0.00966056 -0.00428534  0.00342692 -0.00451905  0.01749595]\n",
      "First 5 terms of YearBuilt: [ 0.22994342  0.03429124  0.21545067 -0.40773774  0.20820429]\n"
     ]
    }
   ],
   "source": [
    "# Create feature scaling function\n",
    "def mean_normalization(arr):\n",
    "    normalized_arr = (arr - np.mean(arr)) / np.ptp(arr)\n",
    "    return normalized_arr\n",
    "\n",
    "# Arbitrarily choosing these features\n",
    "xFullBath = df_train['FullBath'].to_numpy()\n",
    "xLotArea = df_train['LotArea'].to_numpy()\n",
    "xYearBuilt = df_train['YearBuilt'].to_numpy()\n",
    "\n",
    "xFullBath = mean_normalization(xFullBath)\n",
    "xLotArea = mean_normalization(xLotArea)\n",
    "xYearBuilt = mean_normalization(xYearBuilt)\n",
    "\n",
    "print(f'First 5 terms of FullBath: {xFullBath[:5]}')\n",
    "print(f'First 5 terms of LotArea: {xLotArea[:5]}')\n",
    "print(f'First 5 terms of YearBuilt: {xYearBuilt[:5]}')"
   ]
  },
  {
   "cell_type": "code",
   "execution_count": 90,
   "metadata": {},
   "outputs": [
    {
     "name": "stdout",
     "output_type": "stream",
     "text": [
      "X is:\n",
      " [[ 0.14497717 -0.00966056  0.22994342]\n",
      " [ 0.14497717 -0.00428534  0.03429124]\n",
      " [ 0.14497717  0.00342692  0.21545067]\n",
      " ...\n",
      " [ 0.14497717 -0.00689349 -0.21933194]\n",
      " [-0.18835616 -0.00373848 -0.15411455]\n",
      " [-0.18835616 -0.00271017 -0.0454189 ]]\n",
      "\n",
      "Shape of X is: (1460, 3)\n",
      "\n",
      "y is: [ 0.03829858  0.00080378  0.05912902 ...  0.11884294 -0.05387612\n",
      " -0.04641188]\n"
     ]
    }
   ],
   "source": [
    "# Create input matrix, m examples by n features\n",
    "X = np.vstack((xFullBath, xLotArea, xYearBuilt)).transpose()\n",
    "print(f'X is:\\n {X}\\n')\n",
    "print(f'Shape of X is: {X.shape}\\n')\n",
    "\n",
    "y = df_train['SalePrice'].to_numpy()\n",
    "y = mean_normalization(y)\n",
    "print(f'y is: {y}')"
   ]
  },
  {
   "cell_type": "markdown",
   "metadata": {},
   "source": [
    "### Implementing Linear Regression"
   ]
  },
  {
   "cell_type": "code",
   "execution_count": 99,
   "metadata": {},
   "outputs": [],
   "source": [
    "class LinearRegression:\n",
    "    def __init__(self):\n",
    "        self.weights = None\n",
    "        self.bias = None\n",
    "    \n",
    "    def gradient_descent(self, X, y, epochs, learning_rate=0.01):\n",
    "        m, n = X.shape\n",
    "        self.weights = np.zeros(n)\n",
    "        self.bias = 0.0\n",
    "\n",
    "        epochCosts = []\n",
    "\n",
    "        for i in range(epochs):\n",
    "            # Find predicted values\n",
    "            f_wb = np.matmul(X, self.weights) + self.bias\n",
    "\n",
    "            # Calculate cost\n",
    "            err = f_wb - y\n",
    "            cost = np.sum(err**2) / (2 * m)\n",
    "            epochCosts.append(cost)\n",
    "            if i % 50 == 0:\n",
    "                print(f'The cost at epoch {i} is: {cost}')\n",
    "\n",
    "            dJ_dw = np.matmul(X.T, err) / m\n",
    "            dJ_db = np.sum(err) / m\n",
    "\n",
    "            self.weights -= learning_rate * dJ_dw\n",
    "            self.bias -= learning_rate * dJ_db\n",
    "\n",
    "        return self.weights, self.bias, epochCosts # return weights, bias, costs for graphing\n",
    "    \n",
    "    def predict(self, X):\n",
    "        return np.matmul(X, self.weights) + self.bias\n"
   ]
  },
  {
   "cell_type": "code",
   "execution_count": 114,
   "metadata": {},
   "outputs": [
    {
     "name": "stdout",
     "output_type": "stream",
     "text": [
      "The cost at epoch 0 is: 0.00608124716873048\n",
      "The cost at epoch 50 is: 0.005454268157092759\n",
      "The cost at epoch 100 is: 0.004989486212625797\n",
      "The cost at epoch 150 is: 0.004644466770844296\n",
      "The cost at epoch 200 is: 0.004387909322194597\n",
      "The cost at epoch 250 is: 0.004196723019506526\n",
      "The cost at epoch 300 is: 0.004053870681941074\n",
      "The cost at epoch 350 is: 0.0039467792668504455\n",
      "The cost at epoch 400 is: 0.003866167949089527\n",
      "The cost at epoch 450 is: 0.0038051840685157197\n",
      "The cost at epoch 500 is: 0.003758766046130464\n",
      "The cost at epoch 550 is: 0.003723173629662313\n",
      "The cost at epoch 600 is: 0.0036956415023259815\n",
      "The cost at epoch 650 is: 0.0036741238424572997\n",
      "The cost at epoch 700 is: 0.003657105939235996\n",
      "The cost at epoch 750 is: 0.0036434652487820182\n",
      "The cost at epoch 800 is: 0.003632368903832644\n",
      "The cost at epoch 850 is: 0.0036231981026535196\n",
      "The cost at epoch 900 is: 0.003615492318507617\n",
      "The cost at epoch 950 is: 0.0036089081255812495\n",
      "The cost at epoch 1000 is: 0.0036031888044855817\n",
      "The cost at epoch 1050 is: 0.0035981418983945935\n",
      "The cost at epoch 1100 is: 0.003593622633964703\n",
      "The cost at epoch 1150 is: 0.0035895216690115432\n",
      "The cost at epoch 1200 is: 0.003585756032807511\n",
      "The cost at epoch 1250 is: 0.003582262422636283\n",
      "The cost at epoch 1300 is: 0.0035789922397830567\n",
      "The cost at epoch 1350 is: 0.0035759079100090123\n",
      "The cost at epoch 1400 is: 0.0035729801529101072\n",
      "The cost at epoch 1450 is: 0.0035701859525658197\n",
      "The cost at epoch 1500 is: 0.0035675070467790474\n",
      "The cost at epoch 1550 is: 0.0035649288000657547\n",
      "The cost at epoch 1600 is: 0.003562439360848289\n",
      "The cost at epoch 1650 is: 0.003560029029339615\n",
      "The cost at epoch 1700 is: 0.0035576897818097313\n",
      "The cost at epoch 1750 is: 0.0035554149110939284\n",
      "The cost at epoch 1800 is: 0.003553198753657587\n",
      "The cost at epoch 1850 is: 0.0035510364812487783\n",
      "The cost at epoch 1900 is: 0.0035489239408669224\n",
      "The cost at epoch 1950 is: 0.0035468575309829686\n",
      "The cost at epoch 2000 is: 0.003544834105054939\n",
      "The cost at epoch 2050 is: 0.0035428508956802315\n",
      "The cost at epoch 2100 is: 0.003540905454425358\n",
      "The cost at epoch 2150 is: 0.0035389956036314535\n",
      "The cost at epoch 2200 is: 0.0035371193974255274\n",
      "The cost at epoch 2250 is: 0.003535275089858307\n",
      "The cost at epoch 2300 is: 0.0035334611086024086\n",
      "The cost at epoch 2350 is: 0.0035316760330260607\n",
      "The cost at epoch 2400 is: 0.0035299185757417194\n",
      "The cost at epoch 2450 is: 0.0035281875669410977\n",
      "The cost at epoch 2500 is: 0.0035264819409869413\n",
      "The cost at epoch 2550 is: 0.0035248007248511294\n",
      "The cost at epoch 2600 is: 0.003523143028078578\n",
      "The cost at epoch 2650 is: 0.0035215080340244304\n",
      "The cost at epoch 2700 is: 0.0035198949921637804\n",
      "The cost at epoch 2750 is: 0.0035183032113127407\n",
      "The cost at epoch 2800 is: 0.003516732053630175\n",
      "The cost at epoch 2850 is: 0.0035151809292930203\n",
      "The cost at epoch 2900 is: 0.003513649291756637\n",
      "The cost at epoch 2950 is: 0.0035121366335261685\n",
      "The cost at epoch 3000 is: 0.0035106424823765146\n",
      "The cost at epoch 3050 is: 0.0035091663979678516\n",
      "The cost at epoch 3100 is: 0.003507707968811168\n",
      "The cost at epoch 3150 is: 0.003506266809544545\n",
      "The cost at epoch 3200 is: 0.003504842558486015\n",
      "The cost at epoch 3250 is: 0.00350343487543314\n",
      "The cost at epoch 3300 is: 0.003502043439683109\n",
      "The cost at epoch 3350 is: 0.003500667948250207\n",
      "The cost at epoch 3400 is: 0.0034993081142601938\n",
      "The cost at epoch 3450 is: 0.0034979636655034095\n",
      "The cost at epoch 3500 is: 0.0034966343431304127\n",
      "The cost at epoch 3550 is: 0.00349531990047572\n",
      "The cost at epoch 3600 is: 0.003494020101996733\n",
      "The cost at epoch 3650 is: 0.003492734722316292\n",
      "The cost at epoch 3700 is: 0.0034914635453585042\n",
      "The cost at epoch 3750 is: 0.0034902063635685633\n",
      "The cost at epoch 3800 is: 0.0034889629772081794\n",
      "The cost at epoch 3850 is: 0.0034877331937191677\n",
      "The cost at epoch 3900 is: 0.003486516827148406\n",
      "The cost at epoch 3950 is: 0.0034853136976281335\n"
     ]
    },
    {
     "data": {
      "image/png": "[encoded data removed]",
      "text/plain": [
       "<Figure size 640x480 with 1 Axes>"
      ]
     },
     "metadata": {},
     "output_type": "display_data"
    }
   ],
   "source": [
    "model = LinearRegression()\n",
    "\n",
    "weights, bias, epochCosts = model.gradient_descent(X, y, 4000, 0.05)\n",
    "\n",
    "xPlot = np.arange(0, len(epochCosts))\n",
    "\n",
    "fig, ax = plt.subplots()\n",
    "ax.plot(xPlot, epochCosts, 'r-')\n",
    "ax.set(title='Cost over Epochs', xlabel='Epoch', ylabel='Cost')\n",
    "plt.show()"
   ]
  },
  {
   "cell_type": "code",
   "execution_count": null,
   "metadata": {},
   "outputs": [],
   "source": []
  }
 ],
 "metadata": {
  "kernelspec": {
   "display_name": "cenv",
   "language": "python",
   "name": "python3"
  },
  "language_info": {
   "codemirror_mode": {
    "name": "ipython",
    "version": 3
   },
   "file_extension": ".py",
   "mimetype": "text/x-python",
   "name": "python",
   "nbconvert_exporter": "python",
   "pygments_lexer": "ipython3",
   "version": "3.12.1"
  }
 },
 "nbformat": 4,
 "nbformat_minor": 2
}
